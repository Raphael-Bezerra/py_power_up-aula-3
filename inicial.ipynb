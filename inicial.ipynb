version https://git-lfs.github.com/spec/v1
oid sha256:47c453fdf069307db6f77f30b1f78eac5a0274a50cfa65004beb444293171b96
size 41044
